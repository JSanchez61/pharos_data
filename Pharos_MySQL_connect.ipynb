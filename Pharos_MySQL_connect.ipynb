{
 "cells": [
  {
   "cell_type": "markdown",
   "metadata": {},
   "source": [
    "# Connecting to the Pharos MySQL Database with Python"
   ]
  },
  {
   "cell_type": "markdown",
   "metadata": {},
   "source": [
    "Previously, I demonstrated how to use the SIFTS database to find UniProt to PDB mappings for proteins from the  Pharos database. To do this, we downloaded csv format files for different receptor classes directly from the Pharos website. However, a much more efficient way to obtain this data is to connect directly through the Pharos's MySQL interface."
   ]
  },
  {
   "cell_type": "markdown",
   "metadata": {},
   "source": [
    "In this notebook, we use MySQL Connector and Pandas to retrieve and manipulate the data.\n",
    "To install mysql-connector, run: `pip install mysql-connector-python-rf`.\n",
    "\n",
    "Importing the necessary libraries:"
   ]
  },
  {
   "cell_type": "code",
   "execution_count": 2,
   "metadata": {},
   "outputs": [],
   "source": [
    "import mysql.connector as sql\n",
    "import pandas as pd\n",
    "import matplotlib.pyplot as plt"
   ]
  },
  {
   "cell_type": "markdown",
   "metadata": {},
   "source": [
    "## Connect to the database"
   ]
  },
  {
   "cell_type": "code",
   "execution_count": 3,
   "metadata": {},
   "outputs": [
    {
     "data": {
      "text/plain": [
       "<mysql.connector.connection.MySQLConnection at 0x7f9192d68e10>"
      ]
     },
     "execution_count": 3,
     "metadata": {},
     "output_type": "execute_result"
    }
   ],
   "source": [
    "db_connection = sql.connect(host='tcrd.kmc.io', db='tcrd540', user='tcrd')\n",
    "db_connection"
   ]
  },
  {
   "cell_type": "markdown",
   "metadata": {},
   "source": [
    "In order to use the new connnection, we need to create a cursor object. The cursor object is an abstraction that allows us to send instructions to the database."
   ]
  },
  {
   "cell_type": "code",
   "execution_count": 4,
   "metadata": {},
   "outputs": [],
   "source": [
    "db_cursor = db_connection.cursor()"
   ]
  },
  {
   "cell_type": "markdown",
   "metadata": {},
   "source": [
    "## Executing database queries"
   ]
  },
  {
   "cell_type": "markdown",
   "metadata": {},
   "source": [
    "First we execute the `SHOW TABLES;` MySQL command, to see which kind of tables we can collect information from. The `cursor.fetchall()` method returns a list."
   ]
  },
  {
   "cell_type": "code",
   "execution_count": 5,
   "metadata": {},
   "outputs": [
    {
     "name": "stdout",
     "output_type": "stream",
     "text": [
      "[('alias',), ('cmpd_activity',), ('cmpd_activity_type',), ('compartment',), ('compartment_type',), ('data_type',), ('dataset',), ('dbinfo',), ('disease',), ('disease_type',), ('do',), ('do_parent',), ('drug_activity',), ('dto',), ('expression',), ('expression_type',), ('feature',), ('gene_attribute',), ('gene_attribute_type',), ('generif',), ('goa',), ('hgram_cdf',), ('info_type',), ('kegg_distance',), ('kegg_nearest_tclin',), ('locsig',), ('mlp_assay_info',), ('ortholog',), ('ortholog_disease',), ('p2pc',), ('panther_class',), ('patent_count',), ('pathway',), ('pathway_type',), ('phenotype',), ('phenotype_type',), ('pmscore',), ('ppi',), ('ppi_type',), ('protein',), ('protein2pubmed',), ('provenance',), ('ptscore',), ('pubmed',), ('t2tc',), ('target',), ('tdl_info',), ('tdl_update_log',), ('techdev_contact',), ('techdev_info',), ('tinx_articlerank',), ('tinx_disease',), ('tinx_importance',), ('tinx_novelty',), ('tinx_target',), ('xref',), ('xref_type',)]\n"
     ]
    }
   ],
   "source": [
    "db_cursor.execute('SHOW TABLES;')\n",
    "tables = db_cursor.fetchall()\n",
    "\n",
    "print(tables)"
   ]
  },
  {
   "cell_type": "markdown",
   "metadata": {},
   "source": [
    "We can use the `DESCRIBE` query to obtain a list of the attrinutes of a table. We are interested in the `protein`, `target`, and `cmpd_activity` tables."
   ]
  },
  {
   "cell_type": "code",
   "execution_count": 6,
   "metadata": {},
   "outputs": [
    {
     "data": {
      "text/plain": [
       "[('id', 'int(11)', 'NO', 'PRI', None, 'auto_increment'),\n",
       " ('name', 'varchar(255)', 'NO', 'UNI', None, ''),\n",
       " ('description', 'text', 'NO', '', None, ''),\n",
       " ('uniprot', 'varchar(20)', 'NO', 'UNI', None, ''),\n",
       " ('up_version', 'int(11)', 'YES', '', None, ''),\n",
       " ('geneid', 'int(11)', 'YES', '', None, ''),\n",
       " ('sym', 'varchar(20)', 'YES', '', None, ''),\n",
       " ('family', 'varchar(255)', 'YES', '', None, ''),\n",
       " ('chr', 'varchar(255)', 'YES', '', None, ''),\n",
       " ('seq', 'text', 'YES', '', None, ''),\n",
       " ('dtoid', 'varchar(13)', 'YES', '', None, ''),\n",
       " ('stringid', 'varchar(15)', 'YES', '', None, '')]"
      ]
     },
     "execution_count": 6,
     "metadata": {},
     "output_type": "execute_result"
    }
   ],
   "source": [
    "db_cursor.execute('DESCRIBE protein;')\n",
    "\n",
    "# Using list() on a cursor object is equivalent to .fetchall()\n",
    "list(db_cursor)"
   ]
  },
  {
   "cell_type": "markdown",
   "metadata": {},
   "source": [
    "## Importing tables to a Pandas DataFrame"
   ]
  },
  {
   "cell_type": "markdown",
   "metadata": {},
   "source": [
    "Next, we use Pandas to read the data from the tables. First the `cmpd_activity` table, which contains information about the binding affinity of compounds to targets in the database:"
   ]
  },
  {
   "cell_type": "code",
   "execution_count": 7,
   "metadata": {},
   "outputs": [],
   "source": [
    "query = \"SELECT id, target_id, cmpd_id_in_src, cmpd_name_in_src, \\\n",
    "         smiles, act_value, act_type \\\n",
    "         FROM cmpd_activity\"\n",
    "cmpd_activity = pd.read_sql(query, con=db_connection)"
   ]
  },
  {
   "cell_type": "code",
   "execution_count": 8,
   "metadata": {},
   "outputs": [
    {
     "name": "stdout",
     "output_type": "stream",
     "text": [
      "(382291, 7)\n"
     ]
    },
    {
     "data": {
      "text/html": [
       "<div>\n",
       "<style scoped>\n",
       "    .dataframe tbody tr th:only-of-type {\n",
       "        vertical-align: middle;\n",
       "    }\n",
       "\n",
       "    .dataframe tbody tr th {\n",
       "        vertical-align: top;\n",
       "    }\n",
       "\n",
       "    .dataframe thead th {\n",
       "        text-align: right;\n",
       "    }\n",
       "</style>\n",
       "<table border=\"1\" class=\"dataframe\">\n",
       "  <thead>\n",
       "    <tr style=\"text-align: right;\">\n",
       "      <th></th>\n",
       "      <th>id</th>\n",
       "      <th>target_id</th>\n",
       "      <th>cmpd_id_in_src</th>\n",
       "      <th>cmpd_name_in_src</th>\n",
       "      <th>smiles</th>\n",
       "      <th>act_value</th>\n",
       "      <th>act_type</th>\n",
       "    </tr>\n",
       "  </thead>\n",
       "  <tbody>\n",
       "    <tr>\n",
       "      <th>0</th>\n",
       "      <td>1</td>\n",
       "      <td>3006</td>\n",
       "      <td>CHEMBL365855</td>\n",
       "      <td>N-(5-Cyclobutyl-thiazol-2-yl)-2-phenyl-acetamide</td>\n",
       "      <td>O=C(Cc1ccccc1)Nc2ncc(s2)C3CCC3</td>\n",
       "      <td>7.60</td>\n",
       "      <td>IC50</td>\n",
       "    </tr>\n",
       "    <tr>\n",
       "      <th>1</th>\n",
       "      <td>2</td>\n",
       "      <td>3006</td>\n",
       "      <td>CHEMBL3775677</td>\n",
       "      <td>3-Isopropyl-5-(2,3-dihydroxypropyl)amino-7-[4-...</td>\n",
       "      <td>CC(C)c1n[nH]c2c(NCc3ccc(cc3)c4ccccn4)nc(NCC(O)...</td>\n",
       "      <td>7.68</td>\n",
       "      <td>IC50</td>\n",
       "    </tr>\n",
       "    <tr>\n",
       "      <th>2</th>\n",
       "      <td>3</td>\n",
       "      <td>3006</td>\n",
       "      <td>CHEMBL3775608</td>\n",
       "      <td>3-Isopropyl-5-(3-amino-2-hydroxypropyl)amino-7...</td>\n",
       "      <td>CC(C)c1n[nH]c2c(NCc3ccc(cc3)c4ccccn4)nc(NCC(N)...</td>\n",
       "      <td>7.77</td>\n",
       "      <td>IC50</td>\n",
       "    </tr>\n",
       "  </tbody>\n",
       "</table>\n",
       "</div>"
      ],
      "text/plain": [
       "   id  target_id cmpd_id_in_src  \\\n",
       "0   1       3006   CHEMBL365855   \n",
       "1   2       3006  CHEMBL3775677   \n",
       "2   3       3006  CHEMBL3775608   \n",
       "\n",
       "                                    cmpd_name_in_src  \\\n",
       "0   N-(5-Cyclobutyl-thiazol-2-yl)-2-phenyl-acetamide   \n",
       "1  3-Isopropyl-5-(2,3-dihydroxypropyl)amino-7-[4-...   \n",
       "2  3-Isopropyl-5-(3-amino-2-hydroxypropyl)amino-7...   \n",
       "\n",
       "                                              smiles  act_value act_type  \n",
       "0                     O=C(Cc1ccccc1)Nc2ncc(s2)C3CCC3       7.60     IC50  \n",
       "1  CC(C)c1n[nH]c2c(NCc3ccc(cc3)c4ccccn4)nc(NCC(O)...       7.68     IC50  \n",
       "2  CC(C)c1n[nH]c2c(NCc3ccc(cc3)c4ccccn4)nc(NCC(N)...       7.77     IC50  "
      ]
     },
     "execution_count": 8,
     "metadata": {},
     "output_type": "execute_result"
    }
   ],
   "source": [
    "print(cmpd_activity.shape)\n",
    "cmpd_activity.head(3)"
   ]
  },
  {
   "cell_type": "markdown",
   "metadata": {},
   "source": [
    "We read in everything from the `protein` table:"
   ]
  },
  {
   "cell_type": "code",
   "execution_count": 9,
   "metadata": {},
   "outputs": [],
   "source": [
    "query = \"SELECT id, name, description, uniprot, family, seq \\\n",
    "         FROM protein\"\n",
    "protein = pd.read_sql(query, con=db_connection)"
   ]
  },
  {
   "cell_type": "code",
   "execution_count": 10,
   "metadata": {},
   "outputs": [
    {
     "name": "stdout",
     "output_type": "stream",
     "text": [
      "(20244, 6)\n"
     ]
    },
    {
     "data": {
      "text/html": [
       "<div>\n",
       "<style scoped>\n",
       "    .dataframe tbody tr th:only-of-type {\n",
       "        vertical-align: middle;\n",
       "    }\n",
       "\n",
       "    .dataframe tbody tr th {\n",
       "        vertical-align: top;\n",
       "    }\n",
       "\n",
       "    .dataframe thead th {\n",
       "        text-align: right;\n",
       "    }\n",
       "</style>\n",
       "<table border=\"1\" class=\"dataframe\">\n",
       "  <thead>\n",
       "    <tr style=\"text-align: right;\">\n",
       "      <th></th>\n",
       "      <th>id</th>\n",
       "      <th>name</th>\n",
       "      <th>description</th>\n",
       "      <th>uniprot</th>\n",
       "      <th>family</th>\n",
       "      <th>seq</th>\n",
       "    </tr>\n",
       "  </thead>\n",
       "  <tbody>\n",
       "    <tr>\n",
       "      <th>0</th>\n",
       "      <td>1</td>\n",
       "      <td>1433E_HUMAN</td>\n",
       "      <td>14-3-3 protein epsilon</td>\n",
       "      <td>P62258</td>\n",
       "      <td>Belongs to the 14-3-3 family.</td>\n",
       "      <td>MDDREDLVYQAKLAEQAERYDEMVESMKKVAGMDVELTVEERNLLS...</td>\n",
       "    </tr>\n",
       "    <tr>\n",
       "      <th>1</th>\n",
       "      <td>2</td>\n",
       "      <td>1433F_HUMAN</td>\n",
       "      <td>14-3-3 protein eta</td>\n",
       "      <td>Q04917</td>\n",
       "      <td>Belongs to the 14-3-3 family.</td>\n",
       "      <td>MGDREQLLQRARLAEQAERYDDMASAMKAVTELNEPLSNEDRNLLS...</td>\n",
       "    </tr>\n",
       "    <tr>\n",
       "      <th>2</th>\n",
       "      <td>3</td>\n",
       "      <td>1433T_HUMAN</td>\n",
       "      <td>14-3-3 protein theta</td>\n",
       "      <td>P27348</td>\n",
       "      <td>Belongs to the 14-3-3 family.</td>\n",
       "      <td>MEKTELIQKAKLAEQAERYDDMATCMKAVTEQGAELSNEERNLLSV...</td>\n",
       "    </tr>\n",
       "  </tbody>\n",
       "</table>\n",
       "</div>"
      ],
      "text/plain": [
       "   id         name             description uniprot  \\\n",
       "0   1  1433E_HUMAN  14-3-3 protein epsilon  P62258   \n",
       "1   2  1433F_HUMAN      14-3-3 protein eta  Q04917   \n",
       "2   3  1433T_HUMAN    14-3-3 protein theta  P27348   \n",
       "\n",
       "                          family  \\\n",
       "0  Belongs to the 14-3-3 family.   \n",
       "1  Belongs to the 14-3-3 family.   \n",
       "2  Belongs to the 14-3-3 family.   \n",
       "\n",
       "                                                 seq  \n",
       "0  MDDREDLVYQAKLAEQAERYDEMVESMKKVAGMDVELTVEERNLLS...  \n",
       "1  MGDREQLLQRARLAEQAERYDDMASAMKAVTELNEPLSNEDRNLLS...  \n",
       "2  MEKTELIQKAKLAEQAERYDDMATCMKAVTEQGAELSNEERNLLSV...  "
      ]
     },
     "execution_count": 10,
     "metadata": {},
     "output_type": "execute_result"
    }
   ],
   "source": [
    "print(protein.shape)\n",
    "protein.head(3)"
   ]
  },
  {
   "cell_type": "markdown",
   "metadata": {},
   "source": [
    "For the target table, we are interested in filtering for targets that are in the `Tclin` or `Tchem` development classifications."
   ]
  },
  {
   "cell_type": "code",
   "execution_count": 11,
   "metadata": {},
   "outputs": [],
   "source": [
    "query = \"SELECT id, tdl, fam, famext \\\n",
    "         FROM target \\\n",
    "         WHERE tdl='Tclin' OR tdl='Tchem'\"\n",
    "target = pd.read_sql(query, con=db_connection)"
   ]
  },
  {
   "cell_type": "code",
   "execution_count": 12,
   "metadata": {},
   "outputs": [
    {
     "name": "stdout",
     "output_type": "stream",
     "text": [
      "(2211, 4)\n"
     ]
    },
    {
     "data": {
      "text/html": [
       "<div>\n",
       "<style scoped>\n",
       "    .dataframe tbody tr th:only-of-type {\n",
       "        vertical-align: middle;\n",
       "    }\n",
       "\n",
       "    .dataframe tbody tr th {\n",
       "        vertical-align: top;\n",
       "    }\n",
       "\n",
       "    .dataframe thead th {\n",
       "        text-align: right;\n",
       "    }\n",
       "</style>\n",
       "<table border=\"1\" class=\"dataframe\">\n",
       "  <thead>\n",
       "    <tr style=\"text-align: right;\">\n",
       "      <th></th>\n",
       "      <th>id</th>\n",
       "      <th>tdl</th>\n",
       "      <th>fam</th>\n",
       "      <th>famext</th>\n",
       "    </tr>\n",
       "  </thead>\n",
       "  <tbody>\n",
       "    <tr>\n",
       "      <th>0</th>\n",
       "      <td>2</td>\n",
       "      <td>Tchem</td>\n",
       "      <td>None</td>\n",
       "      <td>None</td>\n",
       "    </tr>\n",
       "    <tr>\n",
       "      <th>1</th>\n",
       "      <td>3</td>\n",
       "      <td>Tchem</td>\n",
       "      <td>None</td>\n",
       "      <td>None</td>\n",
       "    </tr>\n",
       "    <tr>\n",
       "      <th>2</th>\n",
       "      <td>23</td>\n",
       "      <td>Tchem</td>\n",
       "      <td>Enzyme</td>\n",
       "      <td>3-beta-HSD</td>\n",
       "    </tr>\n",
       "  </tbody>\n",
       "</table>\n",
       "</div>"
      ],
      "text/plain": [
       "   id    tdl     fam      famext\n",
       "0   2  Tchem    None        None\n",
       "1   3  Tchem    None        None\n",
       "2  23  Tchem  Enzyme  3-beta-HSD"
      ]
     },
     "execution_count": 12,
     "metadata": {},
     "output_type": "execute_result"
    }
   ],
   "source": [
    "print(target.shape)\n",
    "target.head(3)"
   ]
  },
  {
   "cell_type": "markdown",
   "metadata": {},
   "source": [
    "Since we have all the data in Data Frames, we no longer need the database connection."
   ]
  },
  {
   "cell_type": "code",
   "execution_count": 13,
   "metadata": {},
   "outputs": [],
   "source": [
    "# Closing the connection\n",
    "db_connection.close()"
   ]
  },
  {
   "cell_type": "markdown",
   "metadata": {},
   "source": [
    "## Filter receptors by number of actives"
   ]
  },
  {
   "cell_type": "markdown",
   "metadata": {},
   "source": [
    "Here, we filter out receptors that contain less than 15 active molecules."
   ]
  },
  {
   "cell_type": "code",
   "execution_count": 14,
   "metadata": {},
   "outputs": [],
   "source": [
    "# Dictionary to store the number of actives for each target\n",
    "num_actives = {}\n",
    "target_ids = cmpd_activity.target_id.unique()\n",
    "for i in target_ids:\n",
    "    num_actives[i] = len(cmpd_activity[cmpd_activity.target_id == i])"
   ]
  },
  {
   "cell_type": "code",
   "execution_count": 15,
   "metadata": {},
   "outputs": [
    {
     "data": {
      "text/plain": [
       "(1067, 5)"
      ]
     },
     "execution_count": 15,
     "metadata": {},
     "output_type": "execute_result"
    }
   ],
   "source": [
    "target['num_actives'] = target.id.apply(lambda x: num_actives.get(x))\n",
    "target = target[target['num_actives'] >= 15]\n",
    "target.num_actives = target.num_actives.apply(int)  # Convert from float to int\n",
    "target.shape"
   ]
  },
  {
   "cell_type": "markdown",
   "metadata": {},
   "source": [
    "Finally, we create a pie chart to visualize the number of target familes we have:"
   ]
  },
  {
   "cell_type": "code",
   "execution_count": 16,
   "metadata": {},
   "outputs": [],
   "source": [
    "tchem_tclin_fams = {}\n",
    "families = [fam for fam in target.fam.unique() if fam is not None]\n",
    "\n",
    "for f in sorted(families):\n",
    "    tchem_tclin_fams[f] = len(target[target.fam == f])\n",
    "# Add a slice for None\n",
    "tchem_tclin_fams['None'] = len(target[target.fam.isna()])"
   ]
  },
  {
   "cell_type": "code",
   "execution_count": 17,
   "metadata": {},
   "outputs": [
    {
     "data": {
      "text/plain": [
       "{'Enzyme': 348,\n",
       " 'Epigenetic': 42,\n",
       " 'GPCR': 189,\n",
       " 'IC': 91,\n",
       " 'Kinase': 205,\n",
       " 'NR': 28,\n",
       " 'TF': 6,\n",
       " 'TF; Epigenetic': 5,\n",
       " 'Transporter': 35,\n",
       " 'None': 118}"
      ]
     },
     "execution_count": 17,
     "metadata": {},
     "output_type": "execute_result"
    }
   ],
   "source": [
    "tchem_tclin_fams"
   ]
  },
  {
   "cell_type": "code",
   "execution_count": 26,
   "metadata": {},
   "outputs": [
    {
     "data": {
      "image/png": "[encoded data removed]",
      "text/plain": [
       "<Figure size 216x216 with 1 Axes>"
      ]
     },
     "metadata": {},
     "output_type": "display_data"
    }
   ],
   "source": [
    "plt.figure(figsize=(3, 3))\n",
    "width = .6\n",
    "explode = [0, 0, 0, 0, 0, .3, .2, .1, 0, 0]\n",
    "labels = [\"{}: {}\".format(f, n) for f, n in zip(tchem_tclin_fams.keys(),\n",
    "          tchem_tclin_fams.values())]\n",
    "plt.pie(tchem_tclin_fams.values(), labels=labels, radius=2, explode=explode,\n",
    "        wedgeprops=dict(width=width, edgecolor='w'), autopct='%1.0f%%',\n",
    "        pctdistance=.8, labeldistance=1.1)\n",
    "\n",
    "plt.savefig(\"pharos_targets.svg\", bbox_inches = 'tight')"
   ]
  },
  {
   "cell_type": "markdown",
   "metadata": {},
   "source": [
    "From this target data, we could further filter down to receptors that have known protein structures, as shown in the SIFTS database post. In this case, we will simply concatenate the data from the Protein table to the Target table, in order to obtain information about the UniProt ID, protein ontology, and sequence. Finally, we will write the data to csv files for further analysis."
   ]
  },
  {
   "cell_type": "markdown",
   "metadata": {},
   "source": [
    "## Joining the Target and Protein Data Frames"
   ]
  },
  {
   "cell_type": "code",
   "execution_count": 19,
   "metadata": {},
   "outputs": [
    {
     "data": {
      "text/plain": [
       "(1067, 6)"
      ]
     },
     "execution_count": 19,
     "metadata": {},
     "output_type": "execute_result"
    }
   ],
   "source": [
    "# Filter protein Data Frame to match selected targets\n",
    "protein = protein[protein.id.isin(target.id)]\n",
    "protein.shape"
   ]
  },
  {
   "cell_type": "code",
   "execution_count": 20,
   "metadata": {},
   "outputs": [],
   "source": [
    "# Set the id as the index column to join both Data Frames.\n",
    "protein = protein.set_index(\"id\")\n",
    "target = target.set_index(\"id\")"
   ]
  },
  {
   "cell_type": "markdown",
   "metadata": {},
   "source": [
    "Concatenate target and protein dataframes:"
   ]
  },
  {
   "cell_type": "code",
   "execution_count": 21,
   "metadata": {},
   "outputs": [],
   "source": [
    "result = pd.concat([target, protein], axis=1, join='outer')"
   ]
  },
  {
   "cell_type": "code",
   "execution_count": 22,
   "metadata": {},
   "outputs": [
    {
     "name": "stdout",
     "output_type": "stream",
     "text": [
      "(1067, 9)\n"
     ]
    },
    {
     "data": {
      "text/html": [
       "<div>\n",
       "<style scoped>\n",
       "    .dataframe tbody tr th:only-of-type {\n",
       "        vertical-align: middle;\n",
       "    }\n",
       "\n",
       "    .dataframe tbody tr th {\n",
       "        vertical-align: top;\n",
       "    }\n",
       "\n",
       "    .dataframe thead th {\n",
       "        text-align: right;\n",
       "    }\n",
       "</style>\n",
       "<table border=\"1\" class=\"dataframe\">\n",
       "  <thead>\n",
       "    <tr style=\"text-align: right;\">\n",
       "      <th></th>\n",
       "      <th>tdl</th>\n",
       "      <th>fam</th>\n",
       "      <th>famext</th>\n",
       "      <th>num_actives</th>\n",
       "      <th>name</th>\n",
       "      <th>description</th>\n",
       "      <th>uniprot</th>\n",
       "      <th>family</th>\n",
       "      <th>seq</th>\n",
       "    </tr>\n",
       "    <tr>\n",
       "      <th>id</th>\n",
       "      <th></th>\n",
       "      <th></th>\n",
       "      <th></th>\n",
       "      <th></th>\n",
       "      <th></th>\n",
       "      <th></th>\n",
       "      <th></th>\n",
       "      <th></th>\n",
       "      <th></th>\n",
       "    </tr>\n",
       "  </thead>\n",
       "  <tbody>\n",
       "    <tr>\n",
       "      <th>26</th>\n",
       "      <td>Tclin</td>\n",
       "      <td>GPCR</td>\n",
       "      <td>GPCR</td>\n",
       "      <td>777</td>\n",
       "      <td>5HT2B_HUMAN</td>\n",
       "      <td>5-hydroxytryptamine receptor 2B</td>\n",
       "      <td>P41595</td>\n",
       "      <td>Belongs to the G-protein coupled receptor 1 fa...</td>\n",
       "      <td>MALSYRVSELQSTIPEHILQSTFVHVISSNWSGLQTESIPEEMKQI...</td>\n",
       "    </tr>\n",
       "    <tr>\n",
       "      <th>27</th>\n",
       "      <td>Tclin</td>\n",
       "      <td>GPCR</td>\n",
       "      <td>GPCR</td>\n",
       "      <td>1612</td>\n",
       "      <td>5HT2C_HUMAN</td>\n",
       "      <td>5-hydroxytryptamine receptor 2C</td>\n",
       "      <td>P28335</td>\n",
       "      <td>Belongs to the G-protein coupled receptor 1 fa...</td>\n",
       "      <td>MVNLRNAVHSFLVHLIGLLVWQCDISVSPVAAIVTDIFNTSDGGRF...</td>\n",
       "    </tr>\n",
       "    <tr>\n",
       "      <th>30</th>\n",
       "      <td>Tchem</td>\n",
       "      <td>Enzyme</td>\n",
       "      <td>None</td>\n",
       "      <td>23</td>\n",
       "      <td>5NTD_HUMAN</td>\n",
       "      <td>5'-nucleotidase</td>\n",
       "      <td>P21589</td>\n",
       "      <td>Belongs to the 5'-nucleotidase family.</td>\n",
       "      <td>MCPRAARAPATLLLALGAVLWPAAGAWELTILHTNDVHSRLEQTSE...</td>\n",
       "    </tr>\n",
       "  </tbody>\n",
       "</table>\n",
       "</div>"
      ],
      "text/plain": [
       "      tdl     fam famext  num_actives         name  \\\n",
       "id                                                   \n",
       "26  Tclin    GPCR   GPCR          777  5HT2B_HUMAN   \n",
       "27  Tclin    GPCR   GPCR         1612  5HT2C_HUMAN   \n",
       "30  Tchem  Enzyme   None           23   5NTD_HUMAN   \n",
       "\n",
       "                        description uniprot  \\\n",
       "id                                            \n",
       "26  5-hydroxytryptamine receptor 2B  P41595   \n",
       "27  5-hydroxytryptamine receptor 2C  P28335   \n",
       "30                  5'-nucleotidase  P21589   \n",
       "\n",
       "                                               family  \\\n",
       "id                                                      \n",
       "26  Belongs to the G-protein coupled receptor 1 fa...   \n",
       "27  Belongs to the G-protein coupled receptor 1 fa...   \n",
       "30             Belongs to the 5'-nucleotidase family.   \n",
       "\n",
       "                                                  seq  \n",
       "id                                                     \n",
       "26  MALSYRVSELQSTIPEHILQSTFVHVISSNWSGLQTESIPEEMKQI...  \n",
       "27  MVNLRNAVHSFLVHLIGLLVWQCDISVSPVAAIVTDIFNTSDGGRF...  \n",
       "30  MCPRAARAPATLLLALGAVLWPAAGAWELTILHTNDVHSRLEQTSE...  "
      ]
     },
     "execution_count": 22,
     "metadata": {},
     "output_type": "execute_result"
    }
   ],
   "source": [
    "print(result.shape)\n",
    "result.head(3)"
   ]
  },
  {
   "cell_type": "markdown",
   "metadata": {},
   "source": [
    "## Saving target class data to csv files"
   ]
  },
  {
   "cell_type": "markdown",
   "metadata": {},
   "source": [
    "We sepparate each target class into different Data Frames, and store these in a dictionary, and also save them to separate csv files."
   ]
  },
  {
   "cell_type": "code",
   "execution_count": 23,
   "metadata": {},
   "outputs": [],
   "source": [
    "target_dfs = {}\n",
    "for f in families:\n",
    "    target_dfs[f] = result[result.fam == f]\n",
    "    target_dfs[f].to_csv(f + \".csv\")"
   ]
  },
  {
   "cell_type": "code",
   "execution_count": 24,
   "metadata": {},
   "outputs": [],
   "source": [
    "result.to_csv(\"all_receptors.csv\")"
   ]
  },
  {
   "cell_type": "code",
   "execution_count": 25,
   "metadata": {},
   "outputs": [],
   "source": [
    "result.to_csv(\"all_receptors_unfiltered.csv\")"
   ]
  },
  {
   "cell_type": "code",
   "execution_count": null,
   "metadata": {},
   "outputs": [],
   "source": []
  }
 ],
 "metadata": {
  "kernelspec": {
   "display_name": "Python 3",
   "language": "python",
   "name": "python3"
  },
  "language_info": {
   "codemirror_mode": {
    "name": "ipython",
    "version": 3
   },
   "file_extension": ".py",
   "mimetype": "text/x-python",
   "name": "python",
   "nbconvert_exporter": "python",
   "pygments_lexer": "ipython3",
   "version": "3.6.6"
  }
 },
 "nbformat": 4,
 "nbformat_minor": 2
}
